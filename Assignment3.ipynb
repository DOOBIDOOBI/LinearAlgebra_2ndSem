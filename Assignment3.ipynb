{
  "nbformat": 4,
  "nbformat_minor": 0,
  "metadata": {
    "colab": {
      "name": "Assignment3.ipynb",
      "provenance": [],
      "collapsed_sections": [],
      "authorship_tag": "ABX9TyNwbiXbw29S9BRw2R91FI9q",
      "include_colab_link": true
    },
    "kernelspec": {
      "name": "python3",
      "display_name": "Python 3"
    },
    "language_info": {
      "name": "python"
    }
  },
  "cells": [
    {
      "cell_type": "markdown",
      "metadata": {
        "id": "view-in-github",
        "colab_type": "text"
      },
      "source": [
        "<a href=\"https://colab.research.google.com/github/DOOBIDOOBI/LinearAlgebra_2ndSem/blob/main/Assignment3.ipynb\" target=\"_parent\"><img src=\"https://colab.research.google.com/assets/colab-badge.svg\" alt=\"Open In Colab\"/></a>"
      ]
    },
    {
      "cell_type": "markdown",
      "source": [
        "#Linear Algebra for ChE\n",
        "##Laboratory 4: Matrices\n",
        "\n",
        "###"
      ],
      "metadata": {
        "id": "7elAPTbqxzXc"
      }
    },
    {
      "cell_type": "markdown",
      "source": [
        "###Objectives:\n",
        "\n"
      ],
      "metadata": {
        "id": "dj010TGDyFjV"
      }
    },
    {
      "cell_type": "markdown",
      "source": [
        "#Discussion"
      ],
      "metadata": {
        "id": "sT0He1EKyNRU"
      }
    },
    {
      "cell_type": "code",
      "source": [
        "import numpy as np\n",
        "import matplotlib as plt\n",
        "import scipy.linalg as la\n",
        "%matplotlib inline "
      ],
      "metadata": {
        "id": "n07KOr99yPuA"
      },
      "execution_count": 1,
      "outputs": []
    },
    {
      "cell_type": "markdown",
      "source": [
        "##Matrices"
      ],
      "metadata": {
        "id": "-qDg8FQkyzZ4"
      }
    },
    {
      "cell_type": "markdown",
      "source": [
        "The notation and use of matrices is probably one of the fundamentals of modern computing. Matrices are also handy representations of complex equations or mintiple inter-related equatios fron 2-dimensional equations to even hundred and thousands of them. \n",
        "\n",
        "\n",
        "Let say for example you have A and B as sustem of equation."
      ],
      "metadata": {
        "id": "r_e9nrOHy9W9"
      }
    },
    {
      "cell_type": "markdown",
      "source": [
        "$$\n",
        "A = \\left\\{\n",
        "    \\begin{array}\\\n",
        "        x + y \\\\ \n",
        "        4x - 10y\n",
        "    \\end{array}\n",
        "\\right. \\\\\n",
        "B = \\left\\{\n",
        "    \\begin{array}\\\n",
        "        x+y+z \\\\ \n",
        "        3x -2y -z \\\\\n",
        "        -x + 4y +2z\n",
        "    \\end{array}\n",
        "\\right. \\\\\n",
        "C = \\left\\{\n",
        "    \\begin{array}\\\n",
        "        x+y+z \\\\ \n",
        "        3x -2y -z \\\\\n",
        "        -x + 4y +2z\n",
        "    \\end{array}\n",
        "\\right. $$\n"
      ],
      "metadata": {
        "id": "8VJwT_Ljz7Wd"
      }
    },
    {
      "cell_type": "markdown",
      "source": [
        "We could see that A is a system of 2 equations with 2 parameters. While B is a system of 3 equations with 3 parameters. We can represent them as matrices as:"
      ],
      "metadata": {
        "id": "zBtFHv581rpx"
      }
    },
    {
      "cell_type": "markdown",
      "source": [
        ":$$\n",
        "A=\\begin{bmatrix} 1 & 1 \\\\ 4 & {-10}\\end{bmatrix} \\\\\n",
        "B=\\begin{bmatrix} 1 & 1 & 1 \\\\ 3 & -2 & -1 \\\\ -1 & 4 & 2\\end{bmatrix}\\\\\n",
        "C=\\begin{bmatrix} 1 & -2 &  3 & -4\\\\ 3 & -1 & -2&  1\\\\ 2 & -1 &  3 & -2\\end{bmatrix}\n",
        "$$\n"
      ],
      "metadata": {
        "id": "_ctkEKWv1kJI"
      }
    },
    {
      "cell_type": "markdown",
      "source": [
        "$$A=\\begin{bmatrix}\n",
        "a_{(0,0)}&a_{(0,1)}&\\dots&a_{(0,j-1)}\\\\\n",
        "a_{(1,0)}&a_{(1,1)}&\\dots&a_{(1,j-1)}\\\\\n",
        "\\vdots&\\vdots&\\ddots&\\vdots&\\\\\n",
        "a_{(i-1,0)}&a_{(i-1,1)}&\\dots&a_{(i-1,j-1)}\n",
        "\\end{bmatrix}\n",
        "$$\n"
      ],
      "metadata": {
        "id": "NAQWttWV3oIN"
      }
    },
    {
      "cell_type": "code",
      "source": [
        "def describe_mat(matrix):\n",
        "    print(f'Matrix:\\n{matrix}\\n\\nShape:\\t{matrix.shape}\\nRank:\\t{matrix.ndim}\\n')"
      ],
      "metadata": {
        "id": "FI5tAAah34mK"
      },
      "execution_count": 14,
      "outputs": []
    },
    {
      "cell_type": "code",
      "source": [
        "## Declaring a 2x2 matrix\n",
        "A = np.array([\n",
        "    [2, 3],\n",
        "    [5, 4]\n",
        "])\n",
        "describe_mat (A)"
      ],
      "metadata": {
        "colab": {
          "base_uri": "https://localhost:8080/"
        },
        "id": "tk2WwB154QTA",
        "outputId": "41a2cc5a-7550-4238-c37f-e32c36918ddd"
      },
      "execution_count": 15,
      "outputs": [
        {
          "output_type": "stream",
          "name": "stdout",
          "text": [
            "Matrix:\n",
            "[[2 3]\n",
            " [5 4]]\n",
            "\n",
            "Shape:\t(2, 2)\n",
            "Rank:\t2\n",
            "\n"
          ]
        }
      ]
    },
    {
      "cell_type": "code",
      "source": [
        "F = np.array([\n",
        "    [2, 3, 4],\n",
        "    [3, 4, 3]\n",
        "])\n",
        "describe_mat(F)"
      ],
      "metadata": {
        "colab": {
          "base_uri": "https://localhost:8080/"
        },
        "id": "61Lflhbs6Rl-",
        "outputId": "e565e98c-74aa-4e97-a460-37a674582eeb"
      },
      "execution_count": 16,
      "outputs": [
        {
          "output_type": "stream",
          "name": "stdout",
          "text": [
            "Matrix:\n",
            "[[2 3 4]\n",
            " [3 4 3]]\n",
            "\n",
            "Shape:\t(2, 3)\n",
            "Rank:\t2\n",
            "\n"
          ]
        }
      ]
    },
    {
      "cell_type": "code",
      "source": [
        "H = np.array([1, 2, 3, 4, 5])\n",
        "describe_mat(H)"
      ],
      "metadata": {
        "colab": {
          "base_uri": "https://localhost:8080/"
        },
        "id": "zVUFtpX-6vfN",
        "outputId": "371728bc-34f3-4e61-cbad-b0b9a4f84a78"
      },
      "execution_count": 17,
      "outputs": [
        {
          "output_type": "stream",
          "name": "stdout",
          "text": [
            "Matrix:\n",
            "[1 2 3 4 5]\n",
            "\n",
            "Shape:\t(5,)\n",
            "Rank:\t1\n",
            "\n"
          ]
        }
      ]
    },
    {
      "cell_type": "markdown",
      "source": [
        "#Categorizing Matrices\n",
        "##\n"
      ],
      "metadata": {
        "id": "_lDT4qmM7SCW"
      }
    },
    {
      "cell_type": "markdown",
      "source": [
        "Row and colums matrices are common inn vector and matrix computation. They can also represent row"
      ],
      "metadata": {
        "id": "dhCwWJmb7X2l"
      }
    },
    {
      "cell_type": "code",
      "source": [
        "kikiam = np.array([\n",
        "    1, 3, 2, 4\n",
        "])\n",
        "fishball = np.array([\n",
        "    [1,2,3,4]\n",
        "])\n",
        "describe_mat(kikiam)\n",
        "describe_mat(fishball)\n"
      ],
      "metadata": {
        "colab": {
          "base_uri": "https://localhost:8080/"
        },
        "id": "eq39-cYV70QV",
        "outputId": "02bfa1ae-7cd6-47d7-c47f-176e40d8f310"
      },
      "execution_count": 19,
      "outputs": [
        {
          "output_type": "stream",
          "name": "stdout",
          "text": [
            "Matrix:\n",
            "[1 3 2 4]\n",
            "\n",
            "Shape:\t(4,)\n",
            "Rank:\t1\n",
            "\n",
            "Matrix:\n",
            "[[1 2 3 4]]\n",
            "\n",
            "Shape:\t(1, 4)\n",
            "Rank:\t2\n",
            "\n"
          ]
        }
      ]
    },
    {
      "cell_type": "code",
      "source": [
        "kwek2x = np.array([\n",
        "    [1],\n",
        "    [2],\n",
        "    [3],\n",
        "    [4]\n",
        "])\n",
        "describe_mat(kwek2x)"
      ],
      "metadata": {
        "colab": {
          "base_uri": "https://localhost:8080/"
        },
        "id": "I-8TYwDl8uvD",
        "outputId": "44ba4349-63d1-4a3b-fcf5-e64ac72dfdae"
      },
      "execution_count": 22,
      "outputs": [
        {
          "output_type": "stream",
          "name": "stdout",
          "text": [
            "Matrix:\n",
            "[[1]\n",
            " [2]\n",
            " [3]\n",
            " [4]]\n",
            "\n",
            "Shape:\t(4, 1)\n",
            "Rank:\t2\n",
            "\n"
          ]
        }
      ]
    },
    {
      "cell_type": "code",
      "source": [
        "def describe_mat(matrix):\n",
        "      is_square = True if matrix.shape[0] == matrix.shape[1] else False\n",
        "      print(f'Matrix:\\n{matrix}\\n\\nShape:\\t{matrix.shape}\\nRank:\\t{matrix.ndim}\\nIs Square:{is_square}\\n')"
      ],
      "metadata": {
        "id": "ygE7cHdt97_B"
      },
      "execution_count": 24,
      "outputs": []
    },
    {
      "cell_type": "code",
      "source": [
        "box = np.array([\n",
        "    [1,3,5,1,2,4,5,6,7,8],\n",
        "    [1,3,5,1,2,4,5,6,7,8],\n",
        "    [1,3,5,1,2,4,5,6,7,8],\n",
        "    [1,3,5,1,2,4,5,6,7,8],\n",
        "    [1,3,5,1,2,4,5,6,7,8],\n",
        "    [1,3,5,1,2,4,5,6,7,8],\n",
        "    [1,3,5,1,2,4,5,6,7,8],\n",
        "    [1,3,5,1,2,4,5,6,7,8],\n",
        "    [1,3,5,1,2,4,5,6,7,8],\n",
        "    [1,3,5,1,2,4,5,6,7,8]\n",
        "    \n",
        "])\n",
        "chocolatebar = np.array([\n",
        "    [3,5,6],\n",
        "    [3,5,6],\n",
        "    [3,5,6],\n",
        "    [3,5,6],\n",
        "    [3,5,6],\n",
        "    [3,5,6],\n",
        "    [3,5,6],\n",
        "    [3,5,6],\n",
        "    [3,5,6],\n",
        "    [3,5,6],\n",
        "    [3,5,6],\n",
        "    [3,5,6],\n",
        "    [3,5,6],\n",
        "    [3,5,6],\n",
        "    [3,5,6],\n",
        "    [3,5,6],\n",
        "    [1,4,6]\n",
        "])\n",
        "describe_mat(box)\n",
        "describe_mat(chocolatebar)"
      ],
      "metadata": {
        "colab": {
          "base_uri": "https://localhost:8080/"
        },
        "id": "iKh-5-VW-lx_",
        "outputId": "5cd3f964-7eec-4aff-a36e-e4b35ab20136"
      },
      "execution_count": 29,
      "outputs": [
        {
          "output_type": "stream",
          "name": "stdout",
          "text": [
            "Matrix:\n",
            "[[1 3 5 1 2 4 5 6 7 8]\n",
            " [1 3 5 1 2 4 5 6 7 8]\n",
            " [1 3 5 1 2 4 5 6 7 8]\n",
            " [1 3 5 1 2 4 5 6 7 8]\n",
            " [1 3 5 1 2 4 5 6 7 8]\n",
            " [1 3 5 1 2 4 5 6 7 8]\n",
            " [1 3 5 1 2 4 5 6 7 8]\n",
            " [1 3 5 1 2 4 5 6 7 8]\n",
            " [1 3 5 1 2 4 5 6 7 8]\n",
            " [1 3 5 1 2 4 5 6 7 8]]\n",
            "\n",
            "Shape:\t(10, 10)\n",
            "Rank:\t2\n",
            "Is Square:True\n",
            "\n",
            "Matrix:\n",
            "[[3 5 6]\n",
            " [3 5 6]\n",
            " [3 5 6]\n",
            " [3 5 6]\n",
            " [3 5 6]\n",
            " [3 5 6]\n",
            " [3 5 6]\n",
            " [3 5 6]\n",
            " [3 5 6]\n",
            " [3 5 6]\n",
            " [3 5 6]\n",
            " [3 5 6]\n",
            " [3 5 6]\n",
            " [3 5 6]\n",
            " [3 5 6]\n",
            " [3 5 6]\n",
            " [1 4 6]]\n",
            "\n",
            "Shape:\t(17, 3)\n",
            "Rank:\t2\n",
            "Is Square:False\n",
            "\n"
          ]
        }
      ]
    },
    {
      "cell_type": "markdown",
      "source": [
        "##Null Matrix"
      ],
      "metadata": {
        "id": "niNRlkJWBRxb"
      }
    },
    {
      "cell_type": "code",
      "source": [
        "def describe_mat(matrix):\n",
        "  if matrix.size > 0:\n",
        "      is_square = True if matrix.shape[0] == matrix.shape[1] else False\n",
        "      print(f'Matrix:\\n{matrix}\\n\\nShape:\\t{matrix.shape}\\nRank:\\t{matrix.ndim}\\nIs Square:{is_square}\\n')\n",
        "  else:\n",
        "      print('matrix is null')"
      ],
      "metadata": {
        "id": "YiGQJE_SBVGG"
      },
      "execution_count": 30,
      "outputs": []
    },
    {
      "cell_type": "code",
      "source": [
        "null = np.array([])\n",
        "describe_mat\n",
        "notnull = np.array([\n",
        "    [1,2],\n",
        "    [1,2]\n",
        "])\n",
        "describe_mat(null)\n",
        "describe_mat(notnull)"
      ],
      "metadata": {
        "colab": {
          "base_uri": "https://localhost:8080/"
        },
        "id": "JKTOaaxSBqkY",
        "outputId": "abaafe59-95b8-4529-ceb3-883ee7f5dce9"
      },
      "execution_count": 35,
      "outputs": [
        {
          "output_type": "stream",
          "name": "stdout",
          "text": [
            "matrix is null\n",
            "Matrix:\n",
            "[[1 2]\n",
            " [1 2]]\n",
            "\n",
            "Shape:\t(2, 2)\n",
            "Rank:\t2\n",
            "Is Square:True\n",
            "\n"
          ]
        }
      ]
    },
    {
      "cell_type": "markdown",
      "source": [
        ""
      ],
      "metadata": {
        "id": "LeaUEXWcCmbQ"
      }
    },
    {
      "cell_type": "code",
      "source": [
        "row = np.zeros((2,3))\n",
        "box = np.zeros((3,3))\n",
        "rect = np.zeros((3,2))\n",
        "\n",
        "print(f'Zero Row Matrix: \\n{row}')\n",
        "print(f'Zero Square Matrix: \\n{box}')\n",
        "print(f'Zero Rectangular Matrix: \\n{rect}')"
      ],
      "metadata": {
        "colab": {
          "base_uri": "https://localhost:8080/"
        },
        "id": "tZvTUEc8Cm0m",
        "outputId": "44163d1a-810d-4051-fee4-9a046510b22b"
      },
      "execution_count": 45,
      "outputs": [
        {
          "output_type": "stream",
          "name": "stdout",
          "text": [
            "Zero Row Matrix: \n",
            "[[0. 0. 0.]\n",
            " [0. 0. 0.]]\n",
            "Zero Square Matrix: \n",
            "[[0. 0. 0.]\n",
            " [0. 0. 0.]\n",
            " [0. 0. 0.]]\n",
            "Zero Rectangular Matrix: \n",
            "[[0. 0.]\n",
            " [0. 0.]\n",
            " [0. 0.]]\n"
          ]
        }
      ]
    },
    {
      "cell_type": "code",
      "source": [
        "ones_mat_row = np.ones((2,3))\n",
        "ones_mat_sqr = np.ones((3,3))\n",
        "ones_mat_rct = np.ones((3,2))\n",
        "\n",
        "print(f'Ones Row Matrix: \\n{ones_mat_row}')\n",
        "print(f'Ones Square Matrix: \\n{ones_mat_sqr}')\n",
        "print(f'Ones Rectangular Matrix: \\n{ones_mat_rct}')"
      ],
      "metadata": {
        "colab": {
          "base_uri": "https://localhost:8080/"
        },
        "id": "mtQ6hF-CD1SC",
        "outputId": "c06593e3-27d5-4e5b-e24b-4f5e5722f88b"
      },
      "execution_count": 43,
      "outputs": [
        {
          "output_type": "stream",
          "name": "stdout",
          "text": [
            "Ones Row Matrix: \n",
            "[[1. 1. 1.]\n",
            " [1. 1. 1.]]\n",
            "Ones Square Matrix: \n",
            "[[1. 1. 1.]\n",
            " [1. 1. 1.]\n",
            " [1. 1. 1.]]\n",
            "Ones Rectangular Matrix: \n",
            "[[1. 1.]\n",
            " [1. 1.]\n",
            " [1. 1.]]\n"
          ]
        }
      ]
    },
    {
      "cell_type": "markdown",
      "source": [
        "#Diagonal Matrix"
      ],
      "metadata": {
        "id": "GtfyF4m5Ep-9"
      }
    },
    {
      "cell_type": "code",
      "source": [
        "np.array([\n",
        "          [1,0,0],\n",
        "          [0,1,0],\n",
        "          [0,0,1]\n",
        "])"
      ],
      "metadata": {
        "colab": {
          "base_uri": "https://localhost:8080/"
        },
        "id": "HzVdfgwcEwn1",
        "outputId": "67d2cfed-5cc6-4d37-cf9a-8db3a37f7f7f"
      },
      "execution_count": 47,
      "outputs": [
        {
          "output_type": "execute_result",
          "data": {
            "text/plain": [
              "array([[1, 0, 0],\n",
              "       [0, 1, 0],\n",
              "       [0, 0, 1]])"
            ]
          },
          "metadata": {},
          "execution_count": 47
        }
      ]
    },
    {
      "cell_type": "code",
      "source": [
        "padiagonal = np.diag([1,2,3,4,5,6,])\n",
        "padiagonal.shape[0] == padiagonal.shape[1]\n",
        "padiagonal"
      ],
      "metadata": {
        "colab": {
          "base_uri": "https://localhost:8080/"
        },
        "id": "xDTV8WJnFBbA",
        "outputId": "a68c04c4-3b26-450d-ae04-5fb650ec83b7"
      },
      "execution_count": 49,
      "outputs": [
        {
          "output_type": "execute_result",
          "data": {
            "text/plain": [
              "array([[1, 0, 0, 0, 0, 0],\n",
              "       [0, 2, 0, 0, 0, 0],\n",
              "       [0, 0, 3, 0, 0, 0],\n",
              "       [0, 0, 0, 4, 0, 0],\n",
              "       [0, 0, 0, 0, 5, 0],\n",
              "       [0, 0, 0, 0, 0, 6]])"
            ]
          },
          "metadata": {},
          "execution_count": 49
        }
      ]
    },
    {
      "cell_type": "markdown",
      "source": [
        "#Identity Matrix\n",
        "##### An identity matrix is a special diagonal matrix in which the values at the diagonal are ones"
      ],
      "metadata": {
        "id": "_8X4AvmeF2DU"
      }
    },
    {
      "cell_type": "code",
      "source": [
        "np.eye(3)"
      ],
      "metadata": {
        "colab": {
          "base_uri": "https://localhost:8080/"
        },
        "id": "subsZaGkF50c",
        "outputId": "771eaf2f-b8d7-4122-8e2a-88a7eadf5300"
      },
      "execution_count": 51,
      "outputs": [
        {
          "output_type": "execute_result",
          "data": {
            "text/plain": [
              "array([[1., 0., 0.],\n",
              "       [0., 1., 0.],\n",
              "       [0., 0., 1.]])"
            ]
          },
          "metadata": {},
          "execution_count": 51
        }
      ]
    },
    {
      "cell_type": "code",
      "source": [
        "np.identity(10)"
      ],
      "metadata": {
        "colab": {
          "base_uri": "https://localhost:8080/"
        },
        "id": "-r5s_eIdGDLu",
        "outputId": "18371910-6356-4d90-e0dc-5ef04ffc2ba1"
      },
      "execution_count": 52,
      "outputs": [
        {
          "output_type": "execute_result",
          "data": {
            "text/plain": [
              "array([[1., 0., 0., 0., 0., 0., 0., 0., 0., 0.],\n",
              "       [0., 1., 0., 0., 0., 0., 0., 0., 0., 0.],\n",
              "       [0., 0., 1., 0., 0., 0., 0., 0., 0., 0.],\n",
              "       [0., 0., 0., 1., 0., 0., 0., 0., 0., 0.],\n",
              "       [0., 0., 0., 0., 1., 0., 0., 0., 0., 0.],\n",
              "       [0., 0., 0., 0., 0., 1., 0., 0., 0., 0.],\n",
              "       [0., 0., 0., 0., 0., 0., 1., 0., 0., 0.],\n",
              "       [0., 0., 0., 0., 0., 0., 0., 1., 0., 0.],\n",
              "       [0., 0., 0., 0., 0., 0., 0., 0., 1., 0.],\n",
              "       [0., 0., 0., 0., 0., 0., 0., 0., 0., 1.]])"
            ]
          },
          "metadata": {},
          "execution_count": 52
        }
      ]
    },
    {
      "cell_type": "markdown",
      "source": [
        "#Upper Triangular Matrix\n",
        "\n",
        "####An uppertriangular matrix is a matrix that has no values below the diagonal"
      ],
      "metadata": {
        "id": "mtVlNZpuGgL_"
      }
    },
    {
      "cell_type": "code",
      "source": [
        "np.array([\n",
        "          [1,2,3],\n",
        "          [0,1,2],\n",
        "          [0,0,2]\n",
        "])"
      ],
      "metadata": {
        "colab": {
          "base_uri": "https://localhost:8080/"
        },
        "id": "Ubbrad__GrZX",
        "outputId": "9795927b-62da-4a94-b113-15fead69e924"
      },
      "execution_count": 53,
      "outputs": [
        {
          "output_type": "execute_result",
          "data": {
            "text/plain": [
              "array([[1, 2, 3],\n",
              "       [0, 1, 2],\n",
              "       [0, 0, 2]])"
            ]
          },
          "metadata": {},
          "execution_count": 53
        }
      ]
    },
    {
      "cell_type": "code",
      "source": [
        "np.array([\n",
        "          [1,0,0],\n",
        "          [1,1,0],\n",
        "          [3,1,2]\n",
        "])"
      ],
      "metadata": {
        "colab": {
          "base_uri": "https://localhost:8080/"
        },
        "id": "JVyPut6IG6XX",
        "outputId": "9715a78e-9528-4e55-c61f-7ba276092042"
      },
      "execution_count": 54,
      "outputs": [
        {
          "output_type": "execute_result",
          "data": {
            "text/plain": [
              "array([[1, 0, 0],\n",
              "       [1, 1, 0],\n",
              "       [3, 1, 2]])"
            ]
          },
          "metadata": {},
          "execution_count": 54
        }
      ]
    },
    {
      "cell_type": "markdown",
      "source": [
        "#Practice"
      ],
      "metadata": {
        "id": "QhbH1y3pHa0m"
      }
    },
    {
      "cell_type": "markdown",
      "source": [
        "1. Given the linear combinatioin below, try to create a corresponding matrix represening it."
      ],
      "metadata": {
        "id": "IYkZ_ErQHdd9"
      }
    },
    {
      "cell_type": "markdown",
      "source": [
        ":$$\\theta = 5x + 3y - z$$\n"
      ],
      "metadata": {
        "id": "EPCH8mUoHp7p"
      }
    },
    {
      "cell_type": "markdown",
      "source": [
        "2. Given the system og linear combinations below, try to encode it as a matric. Also decribe the matrix."
      ],
      "metadata": {
        "id": "OJyPK1DwHwNY"
      }
    },
    {
      "cell_type": "markdown",
      "source": [
        "$$\n",
        "A = \\left\\{\\begin{array}\n",
        "5x_1 + 2x_2 +x_3\\\\\n",
        "4x_2 - x_3\\\\\n",
        "10x_3\n",
        "\\end{array}\\right.\n",
        "$$\n"
      ],
      "metadata": {
        "id": "ay56-yaGH4Hq"
      }
    },
    {
      "cell_type": "markdown",
      "source": [
        "3. Given the matrix below, express it as a linear combination in a markdown and a LaTeX markdown\n"
      ],
      "metadata": {
        "id": "-AZcxxnsH-yh"
      }
    },
    {
      "cell_type": "code",
      "source": [
        "G = np.array([\n",
        "    [1,7,8],\n",
        "    [2,2,2],\n",
        "    [4,6,7]\n",
        "])\n"
      ],
      "metadata": {
        "id": "D4tEJha9I54T"
      },
      "execution_count": 56,
      "outputs": []
    },
    {
      "cell_type": "markdown",
      "source": [
        "4. Given the matrix below, display the output as a LaTeX markdown also express it as a system of linear combinations.\n"
      ],
      "metadata": {
        "id": "MTXCnj9-IREi"
      }
    },
    {
      "cell_type": "code",
      "source": [
        "H = np.tril(G)\n",
        "H\n"
      ],
      "metadata": {
        "colab": {
          "base_uri": "https://localhost:8080/"
        },
        "id": "G-0AhCOMJCHI",
        "outputId": "3286d869-a244-4a68-8c24-d6999b1c0800"
      },
      "execution_count": 57,
      "outputs": [
        {
          "output_type": "execute_result",
          "data": {
            "text/plain": [
              "array([[1, 0, 0],\n",
              "       [2, 2, 0],\n",
              "       [4, 6, 7]])"
            ]
          },
          "metadata": {},
          "execution_count": 57
        }
      ]
    },
    {
      "cell_type": "code",
      "source": [
        "I = np.tril(G)\n",
        "I"
      ],
      "metadata": {
        "colab": {
          "base_uri": "https://localhost:8080/"
        },
        "id": "fbg0Br8lJKa_",
        "outputId": "b564900f-8aee-42ba-cb6c-9f4e259ea22b"
      },
      "execution_count": 58,
      "outputs": [
        {
          "output_type": "execute_result",
          "data": {
            "text/plain": [
              "array([[1, 0, 0],\n",
              "       [2, 2, 0],\n",
              "       [4, 6, 7]])"
            ]
          },
          "metadata": {},
          "execution_count": 58
        }
      ]
    },
    {
      "cell_type": "markdown",
      "source": [
        "Algebra"
      ],
      "metadata": {
        "id": "GGZgxSPsJqnG"
      }
    },
    {
      "cell_type": "code",
      "source": [
        "C = np.array ([\n",
        "               [1,2],\n",
        "               [4,3],\n",
        "               [2,0]\n",
        "])\n",
        "B = np.array([\n",
        "              [6,7],\n",
        "              [8,6],\n",
        "              [8,9]\n",
        "])\n",
        "C+B"
      ],
      "metadata": {
        "colab": {
          "base_uri": "https://localhost:8080/"
        },
        "id": "DYr0oZaXJQ1m",
        "outputId": "7f83ed52-6825-4fd7-9b72-07615902bdc4"
      },
      "execution_count": 60,
      "outputs": [
        {
          "output_type": "execute_result",
          "data": {
            "text/plain": [
              "array([[ 7,  9],\n",
              "       [12,  9],\n",
              "       [10,  9]])"
            ]
          },
          "metadata": {},
          "execution_count": 60
        }
      ]
    },
    {
      "cell_type": "code",
      "source": [
        "3 + B"
      ],
      "metadata": {
        "colab": {
          "base_uri": "https://localhost:8080/"
        },
        "id": "sWqx1S0xJ1n7",
        "outputId": "29ff6b79-f747-43d6-dcc3-b0ed4891803e"
      },
      "execution_count": 61,
      "outputs": [
        {
          "output_type": "execute_result",
          "data": {
            "text/plain": [
              "array([[ 9, 10],\n",
              "       [11,  9],\n",
              "       [11, 12]])"
            ]
          },
          "metadata": {},
          "execution_count": 61
        }
      ]
    },
    {
      "cell_type": "markdown",
      "source": [
        "#Subraction"
      ],
      "metadata": {
        "id": "6rYC550yJ7OO"
      }
    },
    {
      "cell_type": "code",
      "source": [
        "C = np.array ([\n",
        "               [1,2],\n",
        "               [4,3],\n",
        "               [2,0]\n",
        "])\n",
        "B = np.array([\n",
        "              [6,7],\n",
        "              [8,6],\n",
        "              [8,9]\n",
        "])\n",
        "C-B"
      ],
      "metadata": {
        "colab": {
          "base_uri": "https://localhost:8080/"
        },
        "id": "p67JK-pGJ9gd",
        "outputId": "e2ab5ff6-201a-44a9-ad54-7b3eb088934a"
      },
      "execution_count": 62,
      "outputs": [
        {
          "output_type": "execute_result",
          "data": {
            "text/plain": [
              "array([[-5, -5],\n",
              "       [-4, -3],\n",
              "       [-6, -9]])"
            ]
          },
          "metadata": {},
          "execution_count": 62
        }
      ]
    },
    {
      "cell_type": "code",
      "source": [
        "3-B"
      ],
      "metadata": {
        "colab": {
          "base_uri": "https://localhost:8080/"
        },
        "id": "oq0EM7T3KBFO",
        "outputId": "fc95d83f-462b-415f-aa47-0798e8d50f8e"
      },
      "execution_count": 63,
      "outputs": [
        {
          "output_type": "execute_result",
          "data": {
            "text/plain": [
              "array([[-3, -4],\n",
              "       [-5, -3],\n",
              "       [-5, -6]])"
            ]
          },
          "metadata": {},
          "execution_count": 63
        }
      ]
    },
    {
      "cell_type": "markdown",
      "source": [
        "#Element-wise Multiplication"
      ],
      "metadata": {
        "id": "dqAHIepJKG7T"
      }
    },
    {
      "cell_type": "code",
      "source": [
        "C*B\n",
        "np.multiply(C,B)"
      ],
      "metadata": {
        "colab": {
          "base_uri": "https://localhost:8080/"
        },
        "id": "40KGmWhoKKuh",
        "outputId": "52e3e483-1e3a-415c-a763-5e912caae0f8"
      },
      "execution_count": 64,
      "outputs": [
        {
          "output_type": "execute_result",
          "data": {
            "text/plain": [
              "array([[ 6, 14],\n",
              "       [32, 18],\n",
              "       [16,  0]])"
            ]
          },
          "metadata": {},
          "execution_count": 64
        }
      ]
    },
    {
      "cell_type": "code",
      "source": [
        "2*B"
      ],
      "metadata": {
        "colab": {
          "base_uri": "https://localhost:8080/"
        },
        "id": "rlZRLzfBKWFj",
        "outputId": "822afe82-e69a-4ea5-99a4-a3eac2d7fdfb"
      },
      "execution_count": 65,
      "outputs": [
        {
          "output_type": "execute_result",
          "data": {
            "text/plain": [
              "array([[12, 14],\n",
              "       [16, 12],\n",
              "       [16, 18]])"
            ]
          },
          "metadata": {},
          "execution_count": 65
        }
      ]
    }
  ]
}