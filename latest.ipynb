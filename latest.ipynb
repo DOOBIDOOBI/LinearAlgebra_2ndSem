{
  "nbformat": 4,
  "nbformat_minor": 0,
  "metadata": {
    "colab": {
      "name": "latest.ipynb",
      "provenance": [],
      "authorship_tag": "ABX9TyNrPXWrqyFv+7kOmqwpuDVJ",
      "include_colab_link": true
    },
    "kernelspec": {
      "name": "python3",
      "display_name": "Python 3"
    },
    "language_info": {
      "name": "python"
    }
  },
  "cells": [
    {
      "cell_type": "markdown",
      "metadata": {
        "id": "view-in-github",
        "colab_type": "text"
      },
      "source": [
        "<a href=\"https://colab.research.google.com/github/DOOBIDOOBI/LinearAlgebra_2ndSem/blob/main/latest.ipynb\" target=\"_parent\"><img src=\"https://colab.research.google.com/assets/colab-badge.svg\" alt=\"Open In Colab\"/></a>"
      ]
    },
    {
      "cell_type": "markdown",
      "source": [
        "#Linear Algebra for CpE\n",
        "##Laboratory 3 : Linear Combination and Vector Spaces\n",
        "Now that you have a fundamental knowledge about linear combination, we'll try to visualize it using scientific programming.\n",
        "\n",
        "###Objectives\n",
        "At the end of this activity you will be able to:\n",
        "\n",
        "1. Be familiar with representing linear combinations in the 2-dimensional plane.\n",
        "2. Visualize spans using vector fields in Python.\n",
        "3. Perform vector fields operations using scientific programming."
      ],
      "metadata": {
        "id": "7Zjql6DESGo-"
      }
    },
    {
      "cell_type": "markdown",
      "source": [
        "##Discussion"
      ],
      "metadata": {
        "id": "p5LESOqESRkq"
      }
    },
    {
      "cell_type": "code",
      "source": [
        "import numpy as np\n",
        "import matplotlib.pyplot as plt\n",
        "%matplotlib inline"
      ],
      "metadata": {
        "id": "d5Sz81I8SXgr"
      },
      "execution_count": 1,
      "outputs": []
    },
    {
      "cell_type": "markdown",
      "source": [
        "##Linear Combination"
      ],
      "metadata": {
        "id": "4I7JEiVBSi4E"
      }
    },
    {
      "cell_type": "markdown",
      "source": [
        "It is said that a linear combination is the combination of linear scaling and addition of a vector its bases/components\n",
        "\n",
        "We will try to visualize the vectors and their linear combinations by plotting a sample of real number values for the scalars for the vectors. Let's first try the vectors below:\n",
        "\n",
        "$$\n",
        "A=\\begin{bmatrix} 1 \\\\ 4 \\end{bmatrix} \\\\ B=\\begin{bmatrix} 3  \\\\ -1 \\end{bmatrix}\\\\\n",
        "$$\n"
      ],
      "metadata": {
        "id": "IeTQWQDNSrcU"
      }
    },
    {
      "cell_type": "code",
      "source": [
        "vectA =  np.array([1,4])\n",
        "vectB =  np.array([3,-1])"
      ],
      "metadata": {
        "id": "sPxBq7xoT2Ok"
      },
      "execution_count": 2,
      "outputs": []
    },
    {
      "cell_type": "markdown",
      "source": [
        "##Span of single vectors"
      ],
      "metadata": {
        "id": "CHXzoBVTUDzE"
      }
    },
    {
      "cell_type": "markdown",
      "source": [
        "As discussed in the lecture, the span of individual vectors can be represented by a line span. Let's take vector **A** as an example.\n",
        "$$\n",
        "A= c · \\begin{bmatrix} 1 \\\\ 4 \\end{bmatrix}$$\n"
      ],
      "metadata": {
        "id": "Z_x7_Z_dUIdd"
      }
    },
    {
      "cell_type": "code",
      "source": [
        "c = np.arange(-10,10,4)\n",
        "\n",
        "plt.scatter(c*vectA[0],c*vectA[1])\n",
        "\n",
        "\n",
        "plt.xlim(-10,10)\n",
        "plt.ylim(-10,10)\n",
        "plt.axhline(y=0, color='violet')\n",
        "plt.axvline(x=0, color='blue')\n",
        "plt.grid()\n",
        "plt.show()"
      ],
      "metadata": {
        "colab": {
          "base_uri": "https://localhost:8080/",
          "height": 269
        },
        "id": "FS8Uhq0BU-2K",
        "outputId": "317cf583-1ca9-45e1-b27a-d61e76639222"
      },
      "execution_count": 11,
      "outputs": [
        {
          "output_type": "display_data",
          "data": {
            "text/plain": [
              "<Figure size 432x288 with 1 Axes>"
            ],
            "image/png": "[encoded data removed]"
          },
          "metadata": {
            "needs_background": "light"
          }
        }
      ]
    },
    {
      "cell_type": "markdown",
      "source": [
        "##Span of a linear combination of vectors\n",
        "So what if we are to plot the span of a linear combination of vectors? We can visualize as a plane on the 2-dimensional coordinate system. Let's take the span of the linear combination below:"
      ],
      "metadata": {
        "id": "URY5fzxhVobl"
      }
    },
    {
      "cell_type": "markdown",
      "source": [
        "\n",
        "$$\n",
        "A=\\begin{Bmatrix} C_1 · \\begin{bmatrix} 1 \\\\ 4 \\\\\\end{bmatrix}, C_2 ·\\begin{bmatrix} 3  \\\\ -1 \\\\\\end{bmatrix}\\end{Bmatrix}\n",
        "$$"
      ],
      "metadata": {
        "id": "zlRU5jzKVq-d"
      }
    },
    {
      "cell_type": "code",
      "source": [
        "vectA = np.array([1,2])\n",
        "vectB = np.array([1,2])\n",
        "R = np.arange(-10,10,1)\n",
        "c1, c2 = np.meshgrid(R,R)\n",
        "vectR = vectA + vectB\n",
        "spanRx = c1*vectA[0] + c2*vectB[0]\n",
        "spanRy = c1*vectA[1] + c2*vectB[1]\n",
        "# plt.scatter(R*vectA[0],R*vectA[1])\n",
        "plt.scatter(spanRx,spanRy, s=5, alpha=0.75)\n",
        "\n",
        "plt.axhline(y=0, color='k')\n",
        "plt.axvline(x=0, color='k')\n",
        "plt.grid()\n",
        "plt.show()"
      ],
      "metadata": {
        "colab": {
          "base_uri": "https://localhost:8080/",
          "height": 265
        },
        "id": "9cs_KE8eZBIY",
        "outputId": "3416330d-145f-42c7-e0d1-58b88cc6de21"
      },
      "execution_count": 14,
      "outputs": [
        {
          "output_type": "display_data",
          "data": {
            "text/plain": [
              "<Figure size 432x288 with 1 Axes>"
            ],
            "image/png": "[encoded data removed]"
          },
          "metadata": {
            "needs_background": "light"
          }
        }
      ]
    }
  ]
}