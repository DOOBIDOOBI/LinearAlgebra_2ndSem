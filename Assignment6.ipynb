{
  "nbformat": 4,
  "nbformat_minor": 0,
  "metadata": {
    "colab": {
      "name": "Assignment6.ipynb",
      "provenance": [],
      "collapsed_sections": [],
      "authorship_tag": "ABX9TyOsNI/Mu9IMwY0G/WHxSbrz",
      "include_colab_link": true
    },
    "kernelspec": {
      "name": "python3",
      "display_name": "Python 3"
    },
    "language_info": {
      "name": "python"
    }
  },
  "cells": [
    {
      "cell_type": "markdown",
      "metadata": {
        "id": "view-in-github",
        "colab_type": "text"
      },
      "source": [
        "<a href=\"https://colab.research.google.com/github/DOOBIDOOBI/LinearAlgebra_2ndSem/blob/main/Assignment6.ipynb\" target=\"_parent\"><img src=\"https://colab.research.google.com/assets/colab-badge.svg\" alt=\"Open In Colab\"/></a>"
      ]
    },
    {
      "cell_type": "code",
      "execution_count": 1,
      "metadata": {
        "id": "8gpOwO1dBSxU"
      },
      "outputs": [],
      "source": [
        "import numpy as np\n",
        "import matplotlib.pyplot as plt\n",
        "%matplotlib inline\n"
      ]
    },
    {
      "cell_type": "markdown",
      "source": [
        "#Transition"
      ],
      "metadata": {
        "id": "2efqp7jMCGGP"
      }
    },
    {
      "cell_type": "code",
      "source": [
        "A = np.array([\n",
        "              [2,3,4],\n",
        "              [5,3,2],\n",
        "              [7,9,3]\n",
        "])\n",
        "A"
      ],
      "metadata": {
        "colab": {
          "base_uri": "https://localhost:8080/"
        },
        "id": "jYU98EzTCJtF",
        "outputId": "23faefbc-5baf-4530-a2f5-d0548e24b16c"
      },
      "execution_count": 2,
      "outputs": [
        {
          "output_type": "execute_result",
          "data": {
            "text/plain": [
              "array([[2, 3, 4],\n",
              "       [5, 3, 2],\n",
              "       [7, 9, 3]])"
            ]
          },
          "metadata": {},
          "execution_count": 2
        }
      ]
    },
    {
      "cell_type": "code",
      "source": [
        "A = np.transpose ([[2, 3, 4],\n",
        "       [5, 3, 2],\n",
        "       [7, 9, 3]])\n",
        "A"
      ],
      "metadata": {
        "colab": {
          "base_uri": "https://localhost:8080/"
        },
        "id": "Zxs76RB1CUtt",
        "outputId": "81d8307f-a53b-439b-d816-12374fd176a6"
      },
      "execution_count": 4,
      "outputs": [
        {
          "output_type": "execute_result",
          "data": {
            "text/plain": [
              "array([[2, 5, 7],\n",
              "       [3, 3, 9],\n",
              "       [4, 2, 3]])"
            ]
          },
          "metadata": {},
          "execution_count": 4
        }
      ]
    },
    {
      "cell_type": "code",
      "source": [
        "B = np. array ([\n",
        "                [9,2,3],\n",
        "                [21,3,6],\n",
        "                [3,4,5]\n",
        "])"
      ],
      "metadata": {
        "id": "gCl7VmePCx4s"
      },
      "execution_count": 5,
      "outputs": []
    },
    {
      "cell_type": "markdown",
      "source": [
        "$$\n",
        "A = \n",
        "    \\begin{bmatrix}\n",
        "        x & y \\\\ \n",
        "        4x & 10y\n",
        "    \\end{bmatrix}\n",
        " $$"
      ],
      "metadata": {
        "id": "SZ8zBW7jBdKj"
      }
    },
    {
      "cell_type": "markdown",
      "source": [
        "$$\n",
        "B=\\begin{bmatrix} 1 & 2 & 5 \\\\5 & -1 & 0 \\\\ 0 & -3 & 3\\end{bmatrix}\\\\\n",
        "$$"
      ],
      "metadata": {
        "id": "PX7rAQwxFwGF"
      }
    },
    {
      "cell_type": "code",
      "source": [
        "A @ B"
      ],
      "metadata": {
        "colab": {
          "base_uri": "https://localhost:8080/"
        },
        "id": "f3mx1l8XC8XX",
        "outputId": "78505426-2d98-46d5-9904-3e8fe0908a91"
      },
      "execution_count": 6,
      "outputs": [
        {
          "output_type": "execute_result",
          "data": {
            "text/plain": [
              "array([[144,  47,  71],\n",
              "       [117,  51,  72],\n",
              "       [ 87,  26,  39]])"
            ]
          },
          "metadata": {},
          "execution_count": 6
        }
      ]
    },
    {
      "cell_type": "code",
      "source": [
        "A.dot (B)"
      ],
      "metadata": {
        "colab": {
          "base_uri": "https://localhost:8080/"
        },
        "id": "PZVVT-lyDAeQ",
        "outputId": "813f51b7-1511-4872-de96-08d01f49ff0c"
      },
      "execution_count": 7,
      "outputs": [
        {
          "output_type": "execute_result",
          "data": {
            "text/plain": [
              "array([[144,  47,  71],\n",
              "       [117,  51,  72],\n",
              "       [ 87,  26,  39]])"
            ]
          },
          "metadata": {},
          "execution_count": 7
        }
      ]
    },
    {
      "cell_type": "code",
      "source": [
        ""
      ],
      "metadata": {
        "id": "MFZm7gijF-qM"
      },
      "execution_count": null,
      "outputs": []
    },
    {
      "cell_type": "markdown",
      "source": [
        "$$\n",
        "P=\\begin{bmatrix} 41 & 22 & 58 \\\\55 & -12 & 40 \\\\ 60 & -53 & 23\\\\23 & 45 & 86\\end{bmatrix}\\\\\n",
        "$$\n",
        "\n",
        "$$\n",
        "B=\\begin{bmatrix} 1 & 2 & 5 \\\\5 & -1 & 0 \\\\ 0 & -3 & 3\\end{bmatrix}\\\\\n",
        "$$\n",
        "$$\n",
        "T=\\begin{bmatrix} 12 & 23 & 50\\\\12 & 45 & 12\\\\12 & 87 & 45\\\\ 90 & 123 & 23\\end{bmatrix}\\\\\n",
        "$$"
      ],
      "metadata": {
        "id": "6HYSadgbF-59"
      }
    },
    {
      "cell_type": "markdown",
      "source": [
        " 1. $A \\cdot B \\neq B \\cdot A$\n",
        " 2. $A \\cdot (B \\cdot C) = (A \\cdot B) \\cdot C$\n",
        " 3. $A\\cdot(B+C) = A\\cdot B + A\\cdot C$\n",
        " 4. $(B+C)\\cdot A = B\\cdot A + C\\cdot A$\n",
        " 5. $A\\cdot I = A$\n",
        " 6. $A\\cdot \\emptyset = \\emptyset$\n"
      ],
      "metadata": {
        "id": "UGpDCiCHHWU-"
      }
    },
    {
      "cell_type": "code",
      "source": [
        "P = np.array([\n",
        "              [23, 65, 78, 45],\n",
        "              [56, 32, 34, 56],\n",
        "              [65, 78, 34, 78],\n",
        "              [54, 87, 89, 99]\n",
        "])\n",
        "\n",
        "B = np.array ([ \n",
        "               [32, 56, 897, 45],\n",
        "               [10, 54, 65, 45],\n",
        "               [87, 98, 67, 12],\n",
        "               [45, 87, 89, 65]\n",
        "])\n",
        "\n",
        "T = np.array ([ \n",
        "               [12, 65, 8, 3],\n",
        "               [7, 98, 21, 65],\n",
        "               [4, 56, 35, 45], \n",
        "               [87, 9, 45, 6]\n",
        "])"
      ],
      "metadata": {
        "id": "uEiQchNzHqQ0"
      },
      "execution_count": 28,
      "outputs": []
    },
    {
      "cell_type": "code",
      "source": [
        "P @ B"
      ],
      "metadata": {
        "colab": {
          "base_uri": "https://localhost:8080/"
        },
        "id": "b4RLazhyIO9U",
        "outputId": "959d5944-3d3b-4f2f-b45e-384848496a3b"
      },
      "execution_count": 13,
      "outputs": [
        {
          "output_type": "execute_result",
          "data": {
            "text/plain": [
              "array([[10197, 16357, 34087,  7821],\n",
              "       [ 7590, 13068, 59574,  8008],\n",
              "       [ 9328, 17970, 72595, 11913],\n",
              "       [14796, 25057, 68867, 13848]])"
            ]
          },
          "metadata": {},
          "execution_count": 13
        }
      ]
    },
    {
      "cell_type": "code",
      "source": [
        "B @ P"
      ],
      "metadata": {
        "colab": {
          "base_uri": "https://localhost:8080/"
        },
        "id": "wJbH1oT7IqWZ",
        "outputId": "4d55f5c4-f1a7-4d2d-b374-b86db104925d"
      },
      "execution_count": 14,
      "outputs": [
        {
          "output_type": "execute_result",
          "data": {
            "text/plain": [
              "array([[64607, 77753, 38903, 78997],\n",
              "       [ 9909, 11363,  8831, 12999],\n",
              "       [12492, 15061, 13464, 15817],\n",
              "       [15202, 18306, 15279, 20274]])"
            ]
          },
          "metadata": {},
          "execution_count": 14
        }
      ]
    },
    {
      "cell_type": "code",
      "source": [
        "np.array_equiv(B @ P, P @ B)"
      ],
      "metadata": {
        "colab": {
          "base_uri": "https://localhost:8080/"
        },
        "id": "GpjWGaaNIu2x",
        "outputId": "1d402837-ae37-4102-a640-f24d9242dcb3"
      },
      "execution_count": 15,
      "outputs": [
        {
          "output_type": "execute_result",
          "data": {
            "text/plain": [
              "False"
            ]
          },
          "metadata": {},
          "execution_count": 15
        }
      ]
    },
    {
      "cell_type": "code",
      "source": [
        "P @ (B @ T)"
      ],
      "metadata": {
        "colab": {
          "base_uri": "https://localhost:8080/"
        },
        "id": "4q72AkdoJCZl",
        "outputId": "c78f06c3-dfbe-49d6-87fb-cb9753d00840"
      },
      "execution_count": 16,
      "outputs": [
        {
          "output_type": "execute_result",
          "data": {
            "text/plain": [
              "array([[1053638, 4245052, 1970063, 2674637],\n",
              "       [1117548, 5182230, 2780598, 3601068],\n",
              "       [1564537, 6539917, 3528904, 4534287],\n",
              "       [1833195, 7398510, 3678070, 4855196]])"
            ]
          },
          "metadata": {},
          "execution_count": 16
        }
      ]
    },
    {
      "cell_type": "code",
      "source": [
        "(P@B)@T"
      ],
      "metadata": {
        "colab": {
          "base_uri": "https://localhost:8080/"
        },
        "id": "TMhEVcJKKhQ7",
        "outputId": "19b7f0db-a740-4fb9-d346-0a2f8369c769"
      },
      "execution_count": 17,
      "outputs": [
        {
          "output_type": "execute_result",
          "data": {
            "text/plain": [
              "array([[1053638, 4245052, 1970063, 2674637],\n",
              "       [1117548, 5182230, 2780598, 3601068],\n",
              "       [1564537, 6539917, 3528904, 4534287],\n",
              "       [1833195, 7398510, 3678070, 4855196]])"
            ]
          },
          "metadata": {},
          "execution_count": 17
        }
      ]
    },
    {
      "cell_type": "code",
      "source": [
        "np.array_equiv((P @ B) @ T,P @ (B @ T) )"
      ],
      "metadata": {
        "colab": {
          "base_uri": "https://localhost:8080/"
        },
        "id": "cUpVEg0rKpmC",
        "outputId": "3f021a17-f77f-4ef5-ada6-2c77a778f8b0"
      },
      "execution_count": 19,
      "outputs": [
        {
          "output_type": "execute_result",
          "data": {
            "text/plain": [
              "True"
            ]
          },
          "metadata": {},
          "execution_count": 19
        }
      ]
    },
    {
      "cell_type": "code",
      "source": [
        "P @ (B + T)"
      ],
      "metadata": {
        "colab": {
          "base_uri": "https://localhost:8080/"
        },
        "id": "v88N5ZhqK0_M",
        "outputId": "23bf995a-5888-40e2-c48e-dcc181f208f7"
      },
      "execution_count": 20,
      "outputs": [
        {
          "output_type": "execute_result",
          "data": {
            "text/plain": [
              "array([[15155, 28995, 40391, 15895],\n",
              "       [13494, 22252, 64404, 12122],\n",
              "       [17576, 32445, 79453, 19176],\n",
              "       [25022, 42968, 78696, 24264]])"
            ]
          },
          "metadata": {},
          "execution_count": 20
        }
      ]
    },
    {
      "cell_type": "code",
      "source": [
        "P @ B + P @ T"
      ],
      "metadata": {
        "colab": {
          "base_uri": "https://localhost:8080/"
        },
        "id": "5mHK5SGuK9_h",
        "outputId": "a4efe995-7312-455e-ad4a-a53b992a8f55"
      },
      "execution_count": 21,
      "outputs": [
        {
          "output_type": "execute_result",
          "data": {
            "text/plain": [
              "array([[15155, 28995, 40391, 15895],\n",
              "       [13494, 22252, 64404, 12122],\n",
              "       [17576, 32445, 79453, 19176],\n",
              "       [25022, 42968, 78696, 24264]])"
            ]
          },
          "metadata": {},
          "execution_count": 21
        }
      ]
    },
    {
      "cell_type": "code",
      "source": [
        "np.array_equiv(P @ (B + T), P @ B + P @ T)"
      ],
      "metadata": {
        "colab": {
          "base_uri": "https://localhost:8080/"
        },
        "id": "-U1y_ElbLDj4",
        "outputId": "6f666069-52ff-4a92-d837-8a72c887afd7"
      },
      "execution_count": 22,
      "outputs": [
        {
          "output_type": "execute_result",
          "data": {
            "text/plain": [
              "True"
            ]
          },
          "metadata": {},
          "execution_count": 22
        }
      ]
    },
    {
      "cell_type": "code",
      "source": [
        "P.dot(1)"
      ],
      "metadata": {
        "colab": {
          "base_uri": "https://localhost:8080/"
        },
        "id": "R4GpJxvYLXJv",
        "outputId": "896f2b68-7911-4335-b109-9f75899a2c19"
      },
      "execution_count": 23,
      "outputs": [
        {
          "output_type": "execute_result",
          "data": {
            "text/plain": [
              "array([[23, 65, 78, 45],\n",
              "       [56, 32, 34, 56],\n",
              "       [65, 78, 34, 78],\n",
              "       [54, 87, 89, 99]])"
            ]
          },
          "metadata": {},
          "execution_count": 23
        }
      ]
    },
    {
      "cell_type": "code",
      "source": [
        "P"
      ],
      "metadata": {
        "colab": {
          "base_uri": "https://localhost:8080/"
        },
        "id": "Ev59Q55-Lc_4",
        "outputId": "248c3b36-40cd-442c-c0de-4b99ecd75061"
      },
      "execution_count": 24,
      "outputs": [
        {
          "output_type": "execute_result",
          "data": {
            "text/plain": [
              "array([[23, 65, 78, 45],\n",
              "       [56, 32, 34, 56],\n",
              "       [65, 78, 34, 78],\n",
              "       [54, 87, 89, 99]])"
            ]
          },
          "metadata": {},
          "execution_count": 24
        }
      ]
    },
    {
      "cell_type": "code",
      "source": [
        "np.array_equiv(P.dot(1), P)"
      ],
      "metadata": {
        "colab": {
          "base_uri": "https://localhost:8080/"
        },
        "id": "Hh12aNthLiZw",
        "outputId": "2639f9ec-efed-4123-fb54-c9bc6363a3cb"
      },
      "execution_count": 25,
      "outputs": [
        {
          "output_type": "execute_result",
          "data": {
            "text/plain": [
              "True"
            ]
          },
          "metadata": {},
          "execution_count": 25
        }
      ]
    },
    {
      "cell_type": "code",
      "source": [
        "P.dot(0)"
      ],
      "metadata": {
        "colab": {
          "base_uri": "https://localhost:8080/"
        },
        "id": "6RpBNpTSNKDT",
        "outputId": "2705cb8b-132d-485e-eeeb-fbdc10f88cc9"
      },
      "execution_count": 35,
      "outputs": [
        {
          "output_type": "execute_result",
          "data": {
            "text/plain": [
              "array([[0, 0, 0, 0],\n",
              "       [0, 0, 0, 0],\n",
              "       [0, 0, 0, 0],\n",
              "       [0, 0, 0, 0]])"
            ]
          },
          "metadata": {},
          "execution_count": 35
        }
      ]
    },
    {
      "cell_type": "code",
      "source": [
        "np.array_equiv(P.dot(0), 0)"
      ],
      "metadata": {
        "colab": {
          "base_uri": "https://localhost:8080/"
        },
        "id": "HjhZvc8aNPUY",
        "outputId": "122522e3-9800-4779-d0a2-8d67a2145b7e"
      },
      "execution_count": 36,
      "outputs": [
        {
          "output_type": "execute_result",
          "data": {
            "text/plain": [
              "True"
            ]
          },
          "metadata": {},
          "execution_count": 36
        }
      ]
    },
    {
      "cell_type": "code",
      "source": [
        "K = np.array([\n",
        "              [21,45],\n",
        "              [48,54]\n",
        "])\n",
        "\n",
        "\n",
        "np.linalg.det(K)"
      ],
      "metadata": {
        "colab": {
          "base_uri": "https://localhost:8080/"
        },
        "id": "qTi42v6lL6y6",
        "outputId": "2bc503ee-6582-439c-96ec-4667ca4ec2d9"
      },
      "execution_count": 37,
      "outputs": [
        {
          "output_type": "execute_result",
          "data": {
            "text/plain": [
              "-1026.0"
            ]
          },
          "metadata": {},
          "execution_count": 37
        }
      ]
    },
    {
      "cell_type": "code",
      "source": [
        "J = np.array ([ \n",
        "               [32, 56, 897],\n",
        "               [10, 54, 65],\n",
        "               [87, 98, 67]\n",
        "              \n",
        "])\n",
        "np.linalg.det(J)"
      ],
      "metadata": {
        "colab": {
          "base_uri": "https://localhost:8080/"
        },
        "id": "HOOWjAsiMBPZ",
        "outputId": "a697aaff-bbcd-40c5-ea05-4c220369bf33"
      },
      "execution_count": 34,
      "outputs": [
        {
          "output_type": "execute_result",
          "data": {
            "text/plain": [
              "-3143949.9999999963"
            ]
          },
          "metadata": {},
          "execution_count": 34
        }
      ]
    },
    {
      "cell_type": "code",
      "source": [
        "O = np.array([\n",
        "              [21,45,90],\n",
        "              [48,54,9],\n",
        "              [4, 5, 6]\n",
        "])\n",
        "np.array(O @ np.linalg.inv(O), dtype=int)"
      ],
      "metadata": {
        "colab": {
          "base_uri": "https://localhost:8080/"
        },
        "id": "EiKdIPTjO-f6",
        "outputId": "254348c9-447e-4e0d-c810-98d98fdddfbc"
      },
      "execution_count": 44,
      "outputs": [
        {
          "output_type": "execute_result",
          "data": {
            "text/plain": [
              "array([[1, 0, 0],\n",
              "       [0, 0, 0],\n",
              "       [0, 0, 0]])"
            ]
          },
          "metadata": {},
          "execution_count": 44
        }
      ]
    },
    {
      "cell_type": "code",
      "source": [
        "Q = np.array([\n",
        "              [2, 1, 5, 4],\n",
        "              [48,54, 9, 5],\n",
        "              [45, 98, 4, 3],\n",
        "              [87, 5, 4, 6]\n",
        "])\n",
        "np.array(Q @ np.linalg.inv(Q),dtype=int)"
      ],
      "metadata": {
        "colab": {
          "base_uri": "https://localhost:8080/"
        },
        "id": "KKgnNZTOPQ86",
        "outputId": "48499782-27a9-49f2-fee5-d0d44631589d"
      },
      "execution_count": 42,
      "outputs": [
        {
          "output_type": "execute_result",
          "data": {
            "text/plain": [
              "array([[0, 0, 0, 0],\n",
              "       [0, 0, 0, 0],\n",
              "       [0, 0, 1, 0],\n",
              "       [0, 0, 0, 1]])"
            ]
          },
          "metadata": {},
          "execution_count": 42
        }
      ]
    }
  ]
}